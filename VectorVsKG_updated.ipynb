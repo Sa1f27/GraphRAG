{
 "cells": [
  {
   "cell_type": "markdown",
   "metadata": {
    "application/vnd.databricks.v1+cell": {
     "cellMetadata": {},
     "inputWidgets": {},
     "nuid": "e33ab431-33e1-41a4-a9dd-ef9e07f6b67f",
     "showTitle": false,
     "tableResultSettingsMap": {},
     "title": ""
    }
   },
   "source": [
    "### Embed PubMed journal articles into Weaviate"
   ]
  },
  {
   "cell_type": "markdown",
   "metadata": {
    "application/vnd.databricks.v1+cell": {
     "cellMetadata": {},
     "inputWidgets": {},
     "nuid": "01be7909-32ca-40b8-a616-ed454144551e",
     "showTitle": false,
     "tableResultSettingsMap": {},
     "title": ""
    }
   },
   "source": [
    "PubMed MultiLabel Text Classification Dataset MeSH: https://www.kaggle.com/datasets/owaiskhan9654/pubmed-multilabel-text-classification"
   ]
  },
  {
   "cell_type": "code",
   "execution_count": 1,
   "metadata": {
    "application/vnd.databricks.v1+cell": {
     "cellMetadata": {
      "byteLimit": 2048000,
      "rowLimit": 10000
     },
     "inputWidgets": {},
     "nuid": "fcd63455-d098-483f-b3e5-0e8472e7f913",
     "showTitle": false,
     "tableResultSettingsMap": {},
     "title": ""
    }
   },
   "outputs": [
    {
     "ename": "WeaviateStartUpError",
     "evalue": "Could not connect to Weaviate:Connection to Weaviate failed. Details: .",
     "output_type": "error",
     "traceback": [
      "\u001b[1;31m---------------------------------------------------------------------------\u001b[0m",
      "\u001b[1;31mConnectError\u001b[0m                              Traceback (most recent call last)",
      "File \u001b[1;32m~\\AppData\\Roaming\\Python\\Python312\\site-packages\\httpx\\_transports\\default.py:101\u001b[0m, in \u001b[0;36mmap_httpcore_exceptions\u001b[1;34m()\u001b[0m\n\u001b[0;32m    100\u001b[0m \u001b[38;5;28;01mtry\u001b[39;00m:\n\u001b[1;32m--> 101\u001b[0m     \u001b[38;5;28;01myield\u001b[39;00m\n\u001b[0;32m    102\u001b[0m \u001b[38;5;28;01mexcept\u001b[39;00m \u001b[38;5;167;01mException\u001b[39;00m \u001b[38;5;28;01mas\u001b[39;00m exc:\n",
      "File \u001b[1;32m~\\AppData\\Roaming\\Python\\Python312\\site-packages\\httpx\\_transports\\default.py:394\u001b[0m, in \u001b[0;36mAsyncHTTPTransport.handle_async_request\u001b[1;34m(self, request)\u001b[0m\n\u001b[0;32m    393\u001b[0m \u001b[38;5;28;01mwith\u001b[39;00m map_httpcore_exceptions():\n\u001b[1;32m--> 394\u001b[0m     resp \u001b[38;5;241m=\u001b[39m \u001b[38;5;28;01mawait\u001b[39;00m \u001b[38;5;28mself\u001b[39m\u001b[38;5;241m.\u001b[39m_pool\u001b[38;5;241m.\u001b[39mhandle_async_request(req)\n\u001b[0;32m    396\u001b[0m \u001b[38;5;28;01massert\u001b[39;00m \u001b[38;5;28misinstance\u001b[39m(resp\u001b[38;5;241m.\u001b[39mstream, typing\u001b[38;5;241m.\u001b[39mAsyncIterable)\n",
      "File \u001b[1;32m~\\AppData\\Roaming\\Python\\Python312\\site-packages\\httpcore\\_async\\connection_pool.py:256\u001b[0m, in \u001b[0;36mAsyncConnectionPool.handle_async_request\u001b[1;34m(self, request)\u001b[0m\n\u001b[0;32m    255\u001b[0m     \u001b[38;5;28;01mawait\u001b[39;00m \u001b[38;5;28mself\u001b[39m\u001b[38;5;241m.\u001b[39m_close_connections(closing)\n\u001b[1;32m--> 256\u001b[0m     \u001b[38;5;28;01mraise\u001b[39;00m exc \u001b[38;5;28;01mfrom\u001b[39;00m \u001b[38;5;28;01mNone\u001b[39;00m\n\u001b[0;32m    258\u001b[0m \u001b[38;5;66;03m# Return the response. Note that in this case we still have to manage\u001b[39;00m\n\u001b[0;32m    259\u001b[0m \u001b[38;5;66;03m# the point at which the response is closed.\u001b[39;00m\n",
      "File \u001b[1;32m~\\AppData\\Roaming\\Python\\Python312\\site-packages\\httpcore\\_async\\connection_pool.py:236\u001b[0m, in \u001b[0;36mAsyncConnectionPool.handle_async_request\u001b[1;34m(self, request)\u001b[0m\n\u001b[0;32m    234\u001b[0m \u001b[38;5;28;01mtry\u001b[39;00m:\n\u001b[0;32m    235\u001b[0m     \u001b[38;5;66;03m# Send the request on the assigned connection.\u001b[39;00m\n\u001b[1;32m--> 236\u001b[0m     response \u001b[38;5;241m=\u001b[39m \u001b[38;5;28;01mawait\u001b[39;00m connection\u001b[38;5;241m.\u001b[39mhandle_async_request(\n\u001b[0;32m    237\u001b[0m         pool_request\u001b[38;5;241m.\u001b[39mrequest\n\u001b[0;32m    238\u001b[0m     )\n\u001b[0;32m    239\u001b[0m \u001b[38;5;28;01mexcept\u001b[39;00m ConnectionNotAvailable:\n\u001b[0;32m    240\u001b[0m     \u001b[38;5;66;03m# In some cases a connection may initially be available to\u001b[39;00m\n\u001b[0;32m    241\u001b[0m     \u001b[38;5;66;03m# handle a request, but then become unavailable.\u001b[39;00m\n\u001b[0;32m    242\u001b[0m     \u001b[38;5;66;03m#\u001b[39;00m\n\u001b[0;32m    243\u001b[0m     \u001b[38;5;66;03m# In this case we clear the connection and try again.\u001b[39;00m\n",
      "File \u001b[1;32m~\\AppData\\Roaming\\Python\\Python312\\site-packages\\httpcore\\_async\\connection.py:101\u001b[0m, in \u001b[0;36mAsyncHTTPConnection.handle_async_request\u001b[1;34m(self, request)\u001b[0m\n\u001b[0;32m    100\u001b[0m     \u001b[38;5;28mself\u001b[39m\u001b[38;5;241m.\u001b[39m_connect_failed \u001b[38;5;241m=\u001b[39m \u001b[38;5;28;01mTrue\u001b[39;00m\n\u001b[1;32m--> 101\u001b[0m     \u001b[38;5;28;01mraise\u001b[39;00m exc\n\u001b[0;32m    103\u001b[0m \u001b[38;5;28;01mreturn\u001b[39;00m \u001b[38;5;28;01mawait\u001b[39;00m \u001b[38;5;28mself\u001b[39m\u001b[38;5;241m.\u001b[39m_connection\u001b[38;5;241m.\u001b[39mhandle_async_request(request)\n",
      "File \u001b[1;32m~\\AppData\\Roaming\\Python\\Python312\\site-packages\\httpcore\\_async\\connection.py:78\u001b[0m, in \u001b[0;36mAsyncHTTPConnection.handle_async_request\u001b[1;34m(self, request)\u001b[0m\n\u001b[0;32m     77\u001b[0m \u001b[38;5;28;01mif\u001b[39;00m \u001b[38;5;28mself\u001b[39m\u001b[38;5;241m.\u001b[39m_connection \u001b[38;5;129;01mis\u001b[39;00m \u001b[38;5;28;01mNone\u001b[39;00m:\n\u001b[1;32m---> 78\u001b[0m     stream \u001b[38;5;241m=\u001b[39m \u001b[38;5;28;01mawait\u001b[39;00m \u001b[38;5;28mself\u001b[39m\u001b[38;5;241m.\u001b[39m_connect(request)\n\u001b[0;32m     80\u001b[0m     ssl_object \u001b[38;5;241m=\u001b[39m stream\u001b[38;5;241m.\u001b[39mget_extra_info(\u001b[38;5;124m\"\u001b[39m\u001b[38;5;124mssl_object\u001b[39m\u001b[38;5;124m\"\u001b[39m)\n",
      "File \u001b[1;32m~\\AppData\\Roaming\\Python\\Python312\\site-packages\\httpcore\\_async\\connection.py:124\u001b[0m, in \u001b[0;36mAsyncHTTPConnection._connect\u001b[1;34m(self, request)\u001b[0m\n\u001b[0;32m    123\u001b[0m \u001b[38;5;28;01masync\u001b[39;00m \u001b[38;5;28;01mwith\u001b[39;00m Trace(\u001b[38;5;124m\"\u001b[39m\u001b[38;5;124mconnect_tcp\u001b[39m\u001b[38;5;124m\"\u001b[39m, logger, request, kwargs) \u001b[38;5;28;01mas\u001b[39;00m trace:\n\u001b[1;32m--> 124\u001b[0m     stream \u001b[38;5;241m=\u001b[39m \u001b[38;5;28;01mawait\u001b[39;00m \u001b[38;5;28mself\u001b[39m\u001b[38;5;241m.\u001b[39m_network_backend\u001b[38;5;241m.\u001b[39mconnect_tcp(\u001b[38;5;241m*\u001b[39m\u001b[38;5;241m*\u001b[39mkwargs)\n\u001b[0;32m    125\u001b[0m     trace\u001b[38;5;241m.\u001b[39mreturn_value \u001b[38;5;241m=\u001b[39m stream\n",
      "File \u001b[1;32m~\\AppData\\Roaming\\Python\\Python312\\site-packages\\httpcore\\_backends\\auto.py:31\u001b[0m, in \u001b[0;36mAutoBackend.connect_tcp\u001b[1;34m(self, host, port, timeout, local_address, socket_options)\u001b[0m\n\u001b[0;32m     30\u001b[0m \u001b[38;5;28;01mawait\u001b[39;00m \u001b[38;5;28mself\u001b[39m\u001b[38;5;241m.\u001b[39m_init_backend()\n\u001b[1;32m---> 31\u001b[0m \u001b[38;5;28;01mreturn\u001b[39;00m \u001b[38;5;28;01mawait\u001b[39;00m \u001b[38;5;28mself\u001b[39m\u001b[38;5;241m.\u001b[39m_backend\u001b[38;5;241m.\u001b[39mconnect_tcp(\n\u001b[0;32m     32\u001b[0m     host,\n\u001b[0;32m     33\u001b[0m     port,\n\u001b[0;32m     34\u001b[0m     timeout\u001b[38;5;241m=\u001b[39mtimeout,\n\u001b[0;32m     35\u001b[0m     local_address\u001b[38;5;241m=\u001b[39mlocal_address,\n\u001b[0;32m     36\u001b[0m     socket_options\u001b[38;5;241m=\u001b[39msocket_options,\n\u001b[0;32m     37\u001b[0m )\n",
      "File \u001b[1;32m~\\AppData\\Roaming\\Python\\Python312\\site-packages\\httpcore\\_backends\\anyio.py:113\u001b[0m, in \u001b[0;36mAnyIOBackend.connect_tcp\u001b[1;34m(self, host, port, timeout, local_address, socket_options)\u001b[0m\n\u001b[0;32m    108\u001b[0m exc_map \u001b[38;5;241m=\u001b[39m {\n\u001b[0;32m    109\u001b[0m     \u001b[38;5;167;01mTimeoutError\u001b[39;00m: ConnectTimeout,\n\u001b[0;32m    110\u001b[0m     \u001b[38;5;167;01mOSError\u001b[39;00m: ConnectError,\n\u001b[0;32m    111\u001b[0m     anyio\u001b[38;5;241m.\u001b[39mBrokenResourceError: ConnectError,\n\u001b[0;32m    112\u001b[0m }\n\u001b[1;32m--> 113\u001b[0m \u001b[43m\u001b[49m\u001b[38;5;28;43;01mwith\u001b[39;49;00m\u001b[43m \u001b[49m\u001b[43mmap_exceptions\u001b[49m\u001b[43m(\u001b[49m\u001b[43mexc_map\u001b[49m\u001b[43m)\u001b[49m\u001b[43m:\u001b[49m\n\u001b[0;32m    114\u001b[0m \u001b[43m    \u001b[49m\u001b[38;5;28;43;01mwith\u001b[39;49;00m\u001b[43m \u001b[49m\u001b[43manyio\u001b[49m\u001b[38;5;241;43m.\u001b[39;49m\u001b[43mfail_after\u001b[49m\u001b[43m(\u001b[49m\u001b[43mtimeout\u001b[49m\u001b[43m)\u001b[49m\u001b[43m:\u001b[49m\n",
      "File \u001b[1;32mc:\\ProgramData\\anaconda3\\Lib\\contextlib.py:158\u001b[0m, in \u001b[0;36m_GeneratorContextManager.__exit__\u001b[1;34m(self, typ, value, traceback)\u001b[0m\n\u001b[0;32m    157\u001b[0m \u001b[38;5;28;01mtry\u001b[39;00m:\n\u001b[1;32m--> 158\u001b[0m     \u001b[38;5;28;43mself\u001b[39;49m\u001b[38;5;241;43m.\u001b[39;49m\u001b[43mgen\u001b[49m\u001b[38;5;241;43m.\u001b[39;49m\u001b[43mthrow\u001b[49m\u001b[43m(\u001b[49m\u001b[43mvalue\u001b[49m\u001b[43m)\u001b[49m\n\u001b[0;32m    159\u001b[0m \u001b[38;5;28;01mexcept\u001b[39;00m \u001b[38;5;167;01mStopIteration\u001b[39;00m \u001b[38;5;28;01mas\u001b[39;00m exc:\n\u001b[0;32m    160\u001b[0m     \u001b[38;5;66;03m# Suppress StopIteration *unless* it's the same exception that\u001b[39;00m\n\u001b[0;32m    161\u001b[0m     \u001b[38;5;66;03m# was passed to throw().  This prevents a StopIteration\u001b[39;00m\n\u001b[0;32m    162\u001b[0m     \u001b[38;5;66;03m# raised inside the \"with\" statement from being suppressed.\u001b[39;00m\n",
      "File \u001b[1;32m~\\AppData\\Roaming\\Python\\Python312\\site-packages\\httpcore\\_exceptions.py:14\u001b[0m, in \u001b[0;36mmap_exceptions\u001b[1;34m(map)\u001b[0m\n\u001b[0;32m     13\u001b[0m     \u001b[38;5;28;01mif\u001b[39;00m \u001b[38;5;28misinstance\u001b[39m(exc, from_exc):\n\u001b[1;32m---> 14\u001b[0m         \u001b[38;5;28;01mraise\u001b[39;00m to_exc(exc) \u001b[38;5;28;01mfrom\u001b[39;00m \u001b[38;5;21;01mexc\u001b[39;00m\n\u001b[0;32m     15\u001b[0m \u001b[38;5;28;01mraise\u001b[39;00m\n",
      "\u001b[1;31mConnectError\u001b[0m: [Errno 11001] getaddrinfo failed",
      "\nThe above exception was the direct cause of the following exception:\n",
      "\u001b[1;31mConnectError\u001b[0m                              Traceback (most recent call last)",
      "File \u001b[1;32m~\\AppData\\Roaming\\Python\\Python312\\site-packages\\weaviate\\connect\\v4.py:476\u001b[0m, in \u001b[0;36mConnectionV4.__send\u001b[1;34m(self, method, url, error_msg, status_codes, is_gql_query, weaviate_object, params)\u001b[0m\n\u001b[0;32m    468\u001b[0m req \u001b[38;5;241m=\u001b[39m \u001b[38;5;28mself\u001b[39m\u001b[38;5;241m.\u001b[39m_client\u001b[38;5;241m.\u001b[39mbuild_request(\n\u001b[0;32m    469\u001b[0m     method,\n\u001b[0;32m    470\u001b[0m     url,\n\u001b[1;32m   (...)\u001b[0m\n\u001b[0;32m    474\u001b[0m     timeout\u001b[38;5;241m=\u001b[39m\u001b[38;5;28mself\u001b[39m\u001b[38;5;241m.\u001b[39m__get_timeout(method, is_gql_query),\n\u001b[0;32m    475\u001b[0m )\n\u001b[1;32m--> 476\u001b[0m res \u001b[38;5;241m=\u001b[39m \u001b[38;5;28;01mawait\u001b[39;00m \u001b[38;5;28mself\u001b[39m\u001b[38;5;241m.\u001b[39m_client\u001b[38;5;241m.\u001b[39msend(req)\n\u001b[0;32m    477\u001b[0m \u001b[38;5;28;01mif\u001b[39;00m res\u001b[38;5;241m.\u001b[39mstatus_code \u001b[38;5;241m==\u001b[39m \u001b[38;5;241m403\u001b[39m:\n",
      "File \u001b[1;32m~\\AppData\\Roaming\\Python\\Python312\\site-packages\\httpx\\_client.py:1629\u001b[0m, in \u001b[0;36mAsyncClient.send\u001b[1;34m(self, request, stream, auth, follow_redirects)\u001b[0m\n\u001b[0;32m   1627\u001b[0m auth \u001b[38;5;241m=\u001b[39m \u001b[38;5;28mself\u001b[39m\u001b[38;5;241m.\u001b[39m_build_request_auth(request, auth)\n\u001b[1;32m-> 1629\u001b[0m response \u001b[38;5;241m=\u001b[39m \u001b[38;5;28;01mawait\u001b[39;00m \u001b[38;5;28mself\u001b[39m\u001b[38;5;241m.\u001b[39m_send_handling_auth(\n\u001b[0;32m   1630\u001b[0m     request,\n\u001b[0;32m   1631\u001b[0m     auth\u001b[38;5;241m=\u001b[39mauth,\n\u001b[0;32m   1632\u001b[0m     follow_redirects\u001b[38;5;241m=\u001b[39mfollow_redirects,\n\u001b[0;32m   1633\u001b[0m     history\u001b[38;5;241m=\u001b[39m[],\n\u001b[0;32m   1634\u001b[0m )\n\u001b[0;32m   1635\u001b[0m \u001b[38;5;28;01mtry\u001b[39;00m:\n",
      "File \u001b[1;32m~\\AppData\\Roaming\\Python\\Python312\\site-packages\\httpx\\_client.py:1657\u001b[0m, in \u001b[0;36mAsyncClient._send_handling_auth\u001b[1;34m(self, request, auth, follow_redirects, history)\u001b[0m\n\u001b[0;32m   1656\u001b[0m \u001b[38;5;28;01mwhile\u001b[39;00m \u001b[38;5;28;01mTrue\u001b[39;00m:\n\u001b[1;32m-> 1657\u001b[0m     response \u001b[38;5;241m=\u001b[39m \u001b[38;5;28;01mawait\u001b[39;00m \u001b[38;5;28mself\u001b[39m\u001b[38;5;241m.\u001b[39m_send_handling_redirects(\n\u001b[0;32m   1658\u001b[0m         request,\n\u001b[0;32m   1659\u001b[0m         follow_redirects\u001b[38;5;241m=\u001b[39mfollow_redirects,\n\u001b[0;32m   1660\u001b[0m         history\u001b[38;5;241m=\u001b[39mhistory,\n\u001b[0;32m   1661\u001b[0m     )\n\u001b[0;32m   1662\u001b[0m     \u001b[38;5;28;01mtry\u001b[39;00m:\n",
      "File \u001b[1;32m~\\AppData\\Roaming\\Python\\Python312\\site-packages\\httpx\\_client.py:1694\u001b[0m, in \u001b[0;36mAsyncClient._send_handling_redirects\u001b[1;34m(self, request, follow_redirects, history)\u001b[0m\n\u001b[0;32m   1692\u001b[0m     \u001b[38;5;28;01mawait\u001b[39;00m hook(request)\n\u001b[1;32m-> 1694\u001b[0m response \u001b[38;5;241m=\u001b[39m \u001b[38;5;28;01mawait\u001b[39;00m \u001b[38;5;28mself\u001b[39m\u001b[38;5;241m.\u001b[39m_send_single_request(request)\n\u001b[0;32m   1695\u001b[0m \u001b[38;5;28;01mtry\u001b[39;00m:\n",
      "File \u001b[1;32m~\\AppData\\Roaming\\Python\\Python312\\site-packages\\httpx\\_client.py:1730\u001b[0m, in \u001b[0;36mAsyncClient._send_single_request\u001b[1;34m(self, request)\u001b[0m\n\u001b[0;32m   1729\u001b[0m \u001b[38;5;28;01mwith\u001b[39;00m request_context(request\u001b[38;5;241m=\u001b[39mrequest):\n\u001b[1;32m-> 1730\u001b[0m     response \u001b[38;5;241m=\u001b[39m \u001b[38;5;28;01mawait\u001b[39;00m transport\u001b[38;5;241m.\u001b[39mhandle_async_request(request)\n\u001b[0;32m   1732\u001b[0m \u001b[38;5;28;01massert\u001b[39;00m \u001b[38;5;28misinstance\u001b[39m(response\u001b[38;5;241m.\u001b[39mstream, AsyncByteStream)\n",
      "File \u001b[1;32m~\\AppData\\Roaming\\Python\\Python312\\site-packages\\httpx\\_transports\\default.py:393\u001b[0m, in \u001b[0;36mAsyncHTTPTransport.handle_async_request\u001b[1;34m(self, request)\u001b[0m\n\u001b[0;32m    381\u001b[0m req \u001b[38;5;241m=\u001b[39m httpcore\u001b[38;5;241m.\u001b[39mRequest(\n\u001b[0;32m    382\u001b[0m     method\u001b[38;5;241m=\u001b[39mrequest\u001b[38;5;241m.\u001b[39mmethod,\n\u001b[0;32m    383\u001b[0m     url\u001b[38;5;241m=\u001b[39mhttpcore\u001b[38;5;241m.\u001b[39mURL(\n\u001b[1;32m   (...)\u001b[0m\n\u001b[0;32m    391\u001b[0m     extensions\u001b[38;5;241m=\u001b[39mrequest\u001b[38;5;241m.\u001b[39mextensions,\n\u001b[0;32m    392\u001b[0m )\n\u001b[1;32m--> 393\u001b[0m \u001b[43m\u001b[49m\u001b[38;5;28;43;01mwith\u001b[39;49;00m\u001b[43m \u001b[49m\u001b[43mmap_httpcore_exceptions\u001b[49m\u001b[43m(\u001b[49m\u001b[43m)\u001b[49m\u001b[43m:\u001b[49m\n\u001b[0;32m    394\u001b[0m \u001b[43m    \u001b[49m\u001b[43mresp\u001b[49m\u001b[43m \u001b[49m\u001b[38;5;241;43m=\u001b[39;49m\u001b[43m \u001b[49m\u001b[38;5;28;43;01mawait\u001b[39;49;00m\u001b[43m \u001b[49m\u001b[38;5;28;43mself\u001b[39;49m\u001b[38;5;241;43m.\u001b[39;49m\u001b[43m_pool\u001b[49m\u001b[38;5;241;43m.\u001b[39;49m\u001b[43mhandle_async_request\u001b[49m\u001b[43m(\u001b[49m\u001b[43mreq\u001b[49m\u001b[43m)\u001b[49m\n",
      "File \u001b[1;32mc:\\ProgramData\\anaconda3\\Lib\\contextlib.py:158\u001b[0m, in \u001b[0;36m_GeneratorContextManager.__exit__\u001b[1;34m(self, typ, value, traceback)\u001b[0m\n\u001b[0;32m    157\u001b[0m \u001b[38;5;28;01mtry\u001b[39;00m:\n\u001b[1;32m--> 158\u001b[0m     \u001b[38;5;28;43mself\u001b[39;49m\u001b[38;5;241;43m.\u001b[39;49m\u001b[43mgen\u001b[49m\u001b[38;5;241;43m.\u001b[39;49m\u001b[43mthrow\u001b[49m\u001b[43m(\u001b[49m\u001b[43mvalue\u001b[49m\u001b[43m)\u001b[49m\n\u001b[0;32m    159\u001b[0m \u001b[38;5;28;01mexcept\u001b[39;00m \u001b[38;5;167;01mStopIteration\u001b[39;00m \u001b[38;5;28;01mas\u001b[39;00m exc:\n\u001b[0;32m    160\u001b[0m     \u001b[38;5;66;03m# Suppress StopIteration *unless* it's the same exception that\u001b[39;00m\n\u001b[0;32m    161\u001b[0m     \u001b[38;5;66;03m# was passed to throw().  This prevents a StopIteration\u001b[39;00m\n\u001b[0;32m    162\u001b[0m     \u001b[38;5;66;03m# raised inside the \"with\" statement from being suppressed.\u001b[39;00m\n",
      "File \u001b[1;32m~\\AppData\\Roaming\\Python\\Python312\\site-packages\\httpx\\_transports\\default.py:118\u001b[0m, in \u001b[0;36mmap_httpcore_exceptions\u001b[1;34m()\u001b[0m\n\u001b[0;32m    117\u001b[0m message \u001b[38;5;241m=\u001b[39m \u001b[38;5;28mstr\u001b[39m(exc)\n\u001b[1;32m--> 118\u001b[0m \u001b[38;5;28;01mraise\u001b[39;00m mapped_exc(message) \u001b[38;5;28;01mfrom\u001b[39;00m \u001b[38;5;21;01mexc\u001b[39;00m\n",
      "\u001b[1;31mConnectError\u001b[0m: [Errno 11001] getaddrinfo failed",
      "\nThe above exception was the direct cause of the following exception:\n",
      "\u001b[1;31mWeaviateConnectionError\u001b[0m                   Traceback (most recent call last)",
      "File \u001b[1;32m~\\AppData\\Roaming\\Python\\Python312\\site-packages\\weaviate\\connect\\v4.py:158\u001b[0m, in \u001b[0;36mConnectionV4.connect\u001b[1;34m(self, skip_init_checks)\u001b[0m\n\u001b[0;32m    157\u001b[0m \u001b[38;5;28;01mtry\u001b[39;00m:\n\u001b[1;32m--> 158\u001b[0m     meta \u001b[38;5;241m=\u001b[39m \u001b[38;5;28;01mawait\u001b[39;00m \u001b[38;5;28mself\u001b[39m\u001b[38;5;241m.\u001b[39mget_meta()\n\u001b[0;32m    159\u001b[0m     \u001b[38;5;28mself\u001b[39m\u001b[38;5;241m.\u001b[39m_weaviate_version \u001b[38;5;241m=\u001b[39m _ServerVersion\u001b[38;5;241m.\u001b[39mfrom_string(meta[\u001b[38;5;124m\"\u001b[39m\u001b[38;5;124mversion\u001b[39m\u001b[38;5;124m\"\u001b[39m])\n",
      "File \u001b[1;32m~\\AppData\\Roaming\\Python\\Python312\\site-packages\\weaviate\\connect\\v4.py:609\u001b[0m, in \u001b[0;36mConnectionV4.get_meta\u001b[1;34m(self)\u001b[0m\n\u001b[0;32m    606\u001b[0m \u001b[38;5;250m\u001b[39m\u001b[38;5;124;03m\"\"\"\u001b[39;00m\n\u001b[0;32m    607\u001b[0m \u001b[38;5;124;03mReturns the meta endpoint.\u001b[39;00m\n\u001b[0;32m    608\u001b[0m \u001b[38;5;124;03m\"\"\"\u001b[39;00m\n\u001b[1;32m--> 609\u001b[0m response \u001b[38;5;241m=\u001b[39m \u001b[38;5;28;01mawait\u001b[39;00m \u001b[38;5;28mself\u001b[39m\u001b[38;5;241m.\u001b[39mget(path\u001b[38;5;241m=\u001b[39m\u001b[38;5;124m\"\u001b[39m\u001b[38;5;124m/meta\u001b[39m\u001b[38;5;124m\"\u001b[39m)\n\u001b[0;32m    610\u001b[0m res \u001b[38;5;241m=\u001b[39m _decode_json_response_dict(response, \u001b[38;5;124m\"\u001b[39m\u001b[38;5;124mMeta endpoint\u001b[39m\u001b[38;5;124m\"\u001b[39m)\n",
      "File \u001b[1;32m~\\AppData\\Roaming\\Python\\Python312\\site-packages\\weaviate\\connect\\v4.py:568\u001b[0m, in \u001b[0;36mConnectionV4.get\u001b[1;34m(self, path, params, error_msg, status_codes)\u001b[0m\n\u001b[0;32m    561\u001b[0m \u001b[38;5;28;01masync\u001b[39;00m \u001b[38;5;28;01mdef\u001b[39;00m \u001b[38;5;21mget\u001b[39m(\n\u001b[0;32m    562\u001b[0m     \u001b[38;5;28mself\u001b[39m,\n\u001b[0;32m    563\u001b[0m     path: \u001b[38;5;28mstr\u001b[39m,\n\u001b[1;32m   (...)\u001b[0m\n\u001b[0;32m    566\u001b[0m     status_codes: Optional[_ExpectedStatusCodes] \u001b[38;5;241m=\u001b[39m \u001b[38;5;28;01mNone\u001b[39;00m,\n\u001b[0;32m    567\u001b[0m ) \u001b[38;5;241m-\u001b[39m\u001b[38;5;241m>\u001b[39m Response:\n\u001b[1;32m--> 568\u001b[0m     \u001b[38;5;28;01mreturn\u001b[39;00m \u001b[38;5;28;01mawait\u001b[39;00m \u001b[38;5;28mself\u001b[39m\u001b[38;5;241m.\u001b[39m__send(\n\u001b[0;32m    569\u001b[0m         \u001b[38;5;124m\"\u001b[39m\u001b[38;5;124mGET\u001b[39m\u001b[38;5;124m\"\u001b[39m,\n\u001b[0;32m    570\u001b[0m         url\u001b[38;5;241m=\u001b[39m\u001b[38;5;28mself\u001b[39m\u001b[38;5;241m.\u001b[39murl \u001b[38;5;241m+\u001b[39m \u001b[38;5;28mself\u001b[39m\u001b[38;5;241m.\u001b[39m_api_version_path \u001b[38;5;241m+\u001b[39m path,\n\u001b[0;32m    571\u001b[0m         params\u001b[38;5;241m=\u001b[39mparams,\n\u001b[0;32m    572\u001b[0m         error_msg\u001b[38;5;241m=\u001b[39merror_msg,\n\u001b[0;32m    573\u001b[0m         status_codes\u001b[38;5;241m=\u001b[39mstatus_codes,\n\u001b[0;32m    574\u001b[0m     )\n",
      "File \u001b[1;32m~\\AppData\\Roaming\\Python\\Python312\\site-packages\\weaviate\\connect\\v4.py:485\u001b[0m, in \u001b[0;36mConnectionV4.__send\u001b[1;34m(self, method, url, error_msg, status_codes, is_gql_query, weaviate_object, params)\u001b[0m\n\u001b[0;32m    484\u001b[0m \u001b[38;5;28;01mexcept\u001b[39;00m ConnectError \u001b[38;5;28;01mas\u001b[39;00m conn_err:\n\u001b[1;32m--> 485\u001b[0m     \u001b[38;5;28;01mraise\u001b[39;00m WeaviateConnectionError(error_msg) \u001b[38;5;28;01mfrom\u001b[39;00m \u001b[38;5;21;01mconn_err\u001b[39;00m\n\u001b[0;32m    486\u001b[0m \u001b[38;5;28;01mexcept\u001b[39;00m ReadTimeout \u001b[38;5;28;01mas\u001b[39;00m read_err:\n",
      "\u001b[1;31mWeaviateConnectionError\u001b[0m: Connection to Weaviate failed. Details: ",
      "\nThe above exception was the direct cause of the following exception:\n",
      "\u001b[1;31mWeaviateStartUpError\u001b[0m                      Traceback (most recent call last)",
      "Cell \u001b[1;32mIn[1], line 8\u001b[0m\n\u001b[0;32m      5\u001b[0m \u001b[38;5;28;01mimport\u001b[39;00m \u001b[38;5;21;01mjson\u001b[39;00m\n\u001b[0;32m      6\u001b[0m \u001b[38;5;28;01mimport\u001b[39;00m \u001b[38;5;21;01mpandas\u001b[39;00m \u001b[38;5;28;01mas\u001b[39;00m \u001b[38;5;21;01mpd\u001b[39;00m\n\u001b[1;32m----> 8\u001b[0m client \u001b[38;5;241m=\u001b[39m \u001b[43mweaviate\u001b[49m\u001b[38;5;241;43m.\u001b[39;49m\u001b[43mconnect_to_weaviate_cloud\u001b[49m\u001b[43m(\u001b[49m\n\u001b[0;32m      9\u001b[0m \u001b[43m    \u001b[49m\u001b[43mcluster_url\u001b[49m\u001b[38;5;241;43m=\u001b[39;49m\u001b[38;5;124;43m\"\u001b[39;49m\u001b[38;5;124;43mXXX\u001b[39;49m\u001b[38;5;124;43m\"\u001b[39;49m\u001b[43m,\u001b[49m\u001b[43m  \u001b[49m\u001b[38;5;66;43;03m# Replace with your Weaviate Cloud URL\u001b[39;49;00m\n\u001b[0;32m     10\u001b[0m \u001b[43m    \u001b[49m\u001b[43mauth_credentials\u001b[49m\u001b[38;5;241;43m=\u001b[39;49m\u001b[43mAuth\u001b[49m\u001b[38;5;241;43m.\u001b[39;49m\u001b[43mapi_key\u001b[49m\u001b[43m(\u001b[49m\u001b[38;5;124;43m\"\u001b[39;49m\u001b[38;5;124;43mXXX\u001b[39;49m\u001b[38;5;124;43m\"\u001b[39;49m\u001b[43m)\u001b[49m\u001b[43m,\u001b[49m\u001b[43m  \u001b[49m\u001b[38;5;66;43;03m# Replace with your Weaviate Cloud key\u001b[39;49;00m\n\u001b[0;32m     11\u001b[0m \u001b[43m    \u001b[49m\u001b[43mheaders\u001b[49m\u001b[38;5;241;43m=\u001b[39;49m\u001b[43m{\u001b[49m\u001b[38;5;124;43m'\u001b[39;49m\u001b[38;5;124;43mX-OpenAI-Api-key\u001b[39;49m\u001b[38;5;124;43m'\u001b[39;49m\u001b[43m:\u001b[49m\u001b[43m \u001b[49m\u001b[38;5;124;43m\"\u001b[39;49m\u001b[38;5;124;43mXXX\u001b[39;49m\u001b[38;5;124;43m\"\u001b[39;49m\u001b[43m}\u001b[49m\u001b[43m  \u001b[49m\u001b[38;5;66;43;03m# Replace with your OpenAI API key\u001b[39;49;00m\n\u001b[0;32m     12\u001b[0m \u001b[43m)\u001b[49m\n",
      "File \u001b[1;32m~\\AppData\\Roaming\\Python\\Python312\\site-packages\\weaviate\\connect\\helpers.py:80\u001b[0m, in \u001b[0;36mconnect_to_weaviate_cloud\u001b[1;34m(cluster_url, auth_credentials, headers, additional_config, skip_init_checks)\u001b[0m\n\u001b[0;32m     34\u001b[0m \u001b[38;5;250m\u001b[39m\u001b[38;5;124;03m\"\"\"\u001b[39;00m\n\u001b[0;32m     35\u001b[0m \u001b[38;5;124;03mConnect to a Weaviate Cloud (WCD) instance.\u001b[39;00m\n\u001b[0;32m     36\u001b[0m \n\u001b[1;32m   (...)\u001b[0m\n\u001b[0;32m     77\u001b[0m \u001b[38;5;124;03m    >>> # The connection is automatically closed when the context is exited.\u001b[39;00m\n\u001b[0;32m     78\u001b[0m \u001b[38;5;124;03m\"\"\"\u001b[39;00m\n\u001b[0;32m     79\u001b[0m cluster_url, grpc_host \u001b[38;5;241m=\u001b[39m __parse_weaviate_cloud_cluster_url(cluster_url)\n\u001b[1;32m---> 80\u001b[0m \u001b[38;5;28;01mreturn\u001b[39;00m \u001b[43m__connect\u001b[49m\u001b[43m(\u001b[49m\n\u001b[0;32m     81\u001b[0m \u001b[43m    \u001b[49m\u001b[43mWeaviateClient\u001b[49m\u001b[43m(\u001b[49m\n\u001b[0;32m     82\u001b[0m \u001b[43m        \u001b[49m\u001b[43mconnection_params\u001b[49m\u001b[38;5;241;43m=\u001b[39;49m\u001b[43mConnectionParams\u001b[49m\u001b[43m(\u001b[49m\n\u001b[0;32m     83\u001b[0m \u001b[43m            \u001b[49m\u001b[43mhttp\u001b[49m\u001b[38;5;241;43m=\u001b[39;49m\u001b[43mProtocolParams\u001b[49m\u001b[43m(\u001b[49m\u001b[43mhost\u001b[49m\u001b[38;5;241;43m=\u001b[39;49m\u001b[43mcluster_url\u001b[49m\u001b[43m,\u001b[49m\u001b[43m \u001b[49m\u001b[43mport\u001b[49m\u001b[38;5;241;43m=\u001b[39;49m\u001b[38;5;241;43m443\u001b[39;49m\u001b[43m,\u001b[49m\u001b[43m \u001b[49m\u001b[43msecure\u001b[49m\u001b[38;5;241;43m=\u001b[39;49m\u001b[38;5;28;43;01mTrue\u001b[39;49;00m\u001b[43m)\u001b[49m\u001b[43m,\u001b[49m\n\u001b[0;32m     84\u001b[0m \u001b[43m            \u001b[49m\u001b[43mgrpc\u001b[49m\u001b[38;5;241;43m=\u001b[39;49m\u001b[43mProtocolParams\u001b[49m\u001b[43m(\u001b[49m\u001b[43mhost\u001b[49m\u001b[38;5;241;43m=\u001b[39;49m\u001b[43mgrpc_host\u001b[49m\u001b[43m,\u001b[49m\u001b[43m \u001b[49m\u001b[43mport\u001b[49m\u001b[38;5;241;43m=\u001b[39;49m\u001b[38;5;241;43m443\u001b[39;49m\u001b[43m,\u001b[49m\u001b[43m \u001b[49m\u001b[43msecure\u001b[49m\u001b[38;5;241;43m=\u001b[39;49m\u001b[38;5;28;43;01mTrue\u001b[39;49;00m\u001b[43m)\u001b[49m\u001b[43m,\u001b[49m\n\u001b[0;32m     85\u001b[0m \u001b[43m        \u001b[49m\u001b[43m)\u001b[49m\u001b[43m,\u001b[49m\n\u001b[0;32m     86\u001b[0m \u001b[43m        \u001b[49m\u001b[43mauth_client_secret\u001b[49m\u001b[38;5;241;43m=\u001b[39;49m\u001b[43mauth_credentials\u001b[49m\u001b[43m,\u001b[49m\n\u001b[0;32m     87\u001b[0m \u001b[43m        \u001b[49m\u001b[43madditional_headers\u001b[49m\u001b[38;5;241;43m=\u001b[39;49m\u001b[43mheaders\u001b[49m\u001b[43m,\u001b[49m\n\u001b[0;32m     88\u001b[0m \u001b[43m        \u001b[49m\u001b[43madditional_config\u001b[49m\u001b[38;5;241;43m=\u001b[39;49m\u001b[43madditional_config\u001b[49m\u001b[43m,\u001b[49m\n\u001b[0;32m     89\u001b[0m \u001b[43m        \u001b[49m\u001b[43mskip_init_checks\u001b[49m\u001b[38;5;241;43m=\u001b[39;49m\u001b[43mskip_init_checks\u001b[49m\u001b[43m,\u001b[49m\n\u001b[0;32m     90\u001b[0m \u001b[43m    \u001b[49m\u001b[43m)\u001b[49m\n\u001b[0;32m     91\u001b[0m \u001b[43m\u001b[49m\u001b[43m)\u001b[49m\n",
      "File \u001b[1;32m~\\AppData\\Roaming\\Python\\Python312\\site-packages\\weaviate\\connect\\helpers.py:411\u001b[0m, in \u001b[0;36m__connect\u001b[1;34m(client)\u001b[0m\n\u001b[0;32m    409\u001b[0m \u001b[38;5;28;01mexcept\u001b[39;00m \u001b[38;5;167;01mException\u001b[39;00m \u001b[38;5;28;01mas\u001b[39;00m e:\n\u001b[0;32m    410\u001b[0m     client\u001b[38;5;241m.\u001b[39mclose()\n\u001b[1;32m--> 411\u001b[0m     \u001b[38;5;28;01mraise\u001b[39;00m e\n",
      "File \u001b[1;32m~\\AppData\\Roaming\\Python\\Python312\\site-packages\\weaviate\\connect\\helpers.py:407\u001b[0m, in \u001b[0;36m__connect\u001b[1;34m(client)\u001b[0m\n\u001b[0;32m    405\u001b[0m \u001b[38;5;28;01mdef\u001b[39;00m \u001b[38;5;21m__connect\u001b[39m(client: WeaviateClient) \u001b[38;5;241m-\u001b[39m\u001b[38;5;241m>\u001b[39m WeaviateClient:\n\u001b[0;32m    406\u001b[0m     \u001b[38;5;28;01mtry\u001b[39;00m:\n\u001b[1;32m--> 407\u001b[0m         \u001b[43mclient\u001b[49m\u001b[38;5;241;43m.\u001b[39;49m\u001b[43mconnect\u001b[49m\u001b[43m(\u001b[49m\u001b[43m)\u001b[49m\n\u001b[0;32m    408\u001b[0m         \u001b[38;5;28;01mreturn\u001b[39;00m client\n\u001b[0;32m    409\u001b[0m     \u001b[38;5;28;01mexcept\u001b[39;00m \u001b[38;5;167;01mException\u001b[39;00m \u001b[38;5;28;01mas\u001b[39;00m e:\n",
      "File \u001b[1;32m~\\AppData\\Roaming\\Python\\Python312\\site-packages\\weaviate\\syncify.py:23\u001b[0m, in \u001b[0;36mconvert.<locals>.sync_method\u001b[1;34m(self, __new_name, *args, **kwargs)\u001b[0m\n\u001b[0;32m     20\u001b[0m \u001b[38;5;129m@wraps\u001b[39m(method)  \u001b[38;5;66;03m# type: ignore\u001b[39;00m\n\u001b[0;32m     21\u001b[0m \u001b[38;5;28;01mdef\u001b[39;00m \u001b[38;5;21msync_method\u001b[39m(\u001b[38;5;28mself\u001b[39m, \u001b[38;5;241m*\u001b[39margs, __new_name\u001b[38;5;241m=\u001b[39mnew_name, \u001b[38;5;241m*\u001b[39m\u001b[38;5;241m*\u001b[39mkwargs):\n\u001b[0;32m     22\u001b[0m     async_func \u001b[38;5;241m=\u001b[39m \u001b[38;5;28mgetattr\u001b[39m(\u001b[38;5;28mcls\u001b[39m, __new_name)\n\u001b[1;32m---> 23\u001b[0m     \u001b[38;5;28;01mreturn\u001b[39;00m \u001b[43m_EventLoopSingleton\u001b[49m\u001b[38;5;241;43m.\u001b[39;49m\u001b[43mget_instance\u001b[49m\u001b[43m(\u001b[49m\u001b[43m)\u001b[49m\u001b[38;5;241;43m.\u001b[39;49m\u001b[43mrun_until_complete\u001b[49m\u001b[43m(\u001b[49m\n\u001b[0;32m     24\u001b[0m \u001b[43m        \u001b[49m\u001b[43masync_func\u001b[49m\u001b[43m,\u001b[49m\u001b[43m \u001b[49m\u001b[38;5;28;43mself\u001b[39;49m\u001b[43m,\u001b[49m\u001b[43m \u001b[49m\u001b[38;5;241;43m*\u001b[39;49m\u001b[43margs\u001b[49m\u001b[43m,\u001b[49m\u001b[43m \u001b[49m\u001b[38;5;241;43m*\u001b[39;49m\u001b[38;5;241;43m*\u001b[39;49m\u001b[43mkwargs\u001b[49m\n\u001b[0;32m     25\u001b[0m \u001b[43m    \u001b[49m\u001b[43m)\u001b[49m\n",
      "File \u001b[1;32m~\\AppData\\Roaming\\Python\\Python312\\site-packages\\weaviate\\event_loop.py:42\u001b[0m, in \u001b[0;36m_EventLoop.run_until_complete\u001b[1;34m(self, f, *args, **kwargs)\u001b[0m\n\u001b[0;32m     40\u001b[0m     \u001b[38;5;28;01mraise\u001b[39;00m WeaviateClosedClientError()\n\u001b[0;32m     41\u001b[0m fut \u001b[38;5;241m=\u001b[39m asyncio\u001b[38;5;241m.\u001b[39mrun_coroutine_threadsafe(f(\u001b[38;5;241m*\u001b[39margs, \u001b[38;5;241m*\u001b[39m\u001b[38;5;241m*\u001b[39mkwargs), \u001b[38;5;28mself\u001b[39m\u001b[38;5;241m.\u001b[39mloop)\n\u001b[1;32m---> 42\u001b[0m \u001b[38;5;28;01mreturn\u001b[39;00m \u001b[43mfut\u001b[49m\u001b[38;5;241;43m.\u001b[39;49m\u001b[43mresult\u001b[49m\u001b[43m(\u001b[49m\u001b[43m)\u001b[49m\n",
      "File \u001b[1;32mc:\\ProgramData\\anaconda3\\Lib\\concurrent\\futures\\_base.py:456\u001b[0m, in \u001b[0;36mFuture.result\u001b[1;34m(self, timeout)\u001b[0m\n\u001b[0;32m    454\u001b[0m     \u001b[38;5;28;01mraise\u001b[39;00m CancelledError()\n\u001b[0;32m    455\u001b[0m \u001b[38;5;28;01melif\u001b[39;00m \u001b[38;5;28mself\u001b[39m\u001b[38;5;241m.\u001b[39m_state \u001b[38;5;241m==\u001b[39m FINISHED:\n\u001b[1;32m--> 456\u001b[0m     \u001b[38;5;28;01mreturn\u001b[39;00m \u001b[38;5;28;43mself\u001b[39;49m\u001b[38;5;241;43m.\u001b[39;49m\u001b[43m__get_result\u001b[49m\u001b[43m(\u001b[49m\u001b[43m)\u001b[49m\n\u001b[0;32m    457\u001b[0m \u001b[38;5;28;01melse\u001b[39;00m:\n\u001b[0;32m    458\u001b[0m     \u001b[38;5;28;01mraise\u001b[39;00m \u001b[38;5;167;01mTimeoutError\u001b[39;00m()\n",
      "File \u001b[1;32mc:\\ProgramData\\anaconda3\\Lib\\concurrent\\futures\\_base.py:401\u001b[0m, in \u001b[0;36mFuture.__get_result\u001b[1;34m(self)\u001b[0m\n\u001b[0;32m    399\u001b[0m \u001b[38;5;28;01mif\u001b[39;00m \u001b[38;5;28mself\u001b[39m\u001b[38;5;241m.\u001b[39m_exception:\n\u001b[0;32m    400\u001b[0m     \u001b[38;5;28;01mtry\u001b[39;00m:\n\u001b[1;32m--> 401\u001b[0m         \u001b[38;5;28;01mraise\u001b[39;00m \u001b[38;5;28mself\u001b[39m\u001b[38;5;241m.\u001b[39m_exception\n\u001b[0;32m    402\u001b[0m     \u001b[38;5;28;01mfinally\u001b[39;00m:\n\u001b[0;32m    403\u001b[0m         \u001b[38;5;66;03m# Break a reference cycle with the exception in self._exception\u001b[39;00m\n\u001b[0;32m    404\u001b[0m         \u001b[38;5;28mself\u001b[39m \u001b[38;5;241m=\u001b[39m \u001b[38;5;28;01mNone\u001b[39;00m\n",
      "File \u001b[1;32m~\\AppData\\Roaming\\Python\\Python312\\site-packages\\weaviate\\client_base.py:153\u001b[0m, in \u001b[0;36m_WeaviateClientBase.connect\u001b[1;34m(self)\u001b[0m\n\u001b[0;32m    151\u001b[0m \u001b[38;5;28;01mif\u001b[39;00m \u001b[38;5;28mself\u001b[39m\u001b[38;5;241m.\u001b[39m_connection\u001b[38;5;241m.\u001b[39mis_connected():\n\u001b[0;32m    152\u001b[0m     \u001b[38;5;28;01mreturn\u001b[39;00m\n\u001b[1;32m--> 153\u001b[0m \u001b[38;5;28;01mawait\u001b[39;00m \u001b[38;5;28mself\u001b[39m\u001b[38;5;241m.\u001b[39m_connection\u001b[38;5;241m.\u001b[39mconnect(\u001b[38;5;28mself\u001b[39m\u001b[38;5;241m.\u001b[39m_skip_init_checks)\n",
      "File \u001b[1;32m~\\AppData\\Roaming\\Python\\Python312\\site-packages\\weaviate\\connect\\v4.py:172\u001b[0m, in \u001b[0;36mConnectionV4.connect\u001b[1;34m(self, skip_init_checks)\u001b[0m\n\u001b[0;32m    165\u001b[0m \u001b[38;5;28;01mexcept\u001b[39;00m (\n\u001b[0;32m    166\u001b[0m     WeaviateConnectionError,\n\u001b[0;32m    167\u001b[0m     ReadError,\n\u001b[0;32m    168\u001b[0m     RemoteProtocolError,\n\u001b[0;32m    169\u001b[0m     SSLZeroReturnError,  \u001b[38;5;66;03m# required for async 3.8,3.9 due to ssl.SSLZeroReturnError: TLS/SSL connection has been closed (EOF) (_ssl.c:1131)\u001b[39;00m\n\u001b[0;32m    170\u001b[0m ) \u001b[38;5;28;01mas\u001b[39;00m e:\n\u001b[0;32m    171\u001b[0m     \u001b[38;5;28mself\u001b[39m\u001b[38;5;241m.\u001b[39m__connected \u001b[38;5;241m=\u001b[39m \u001b[38;5;28;01mFalse\u001b[39;00m\n\u001b[1;32m--> 172\u001b[0m     \u001b[38;5;28;01mraise\u001b[39;00m WeaviateStartUpError(\u001b[38;5;124mf\u001b[39m\u001b[38;5;124m\"\u001b[39m\u001b[38;5;124mCould not connect to Weaviate:\u001b[39m\u001b[38;5;132;01m{\u001b[39;00me\u001b[38;5;132;01m}\u001b[39;00m\u001b[38;5;124m.\u001b[39m\u001b[38;5;124m\"\u001b[39m) \u001b[38;5;28;01mfrom\u001b[39;00m \u001b[38;5;21;01me\u001b[39;00m\n\u001b[0;32m    174\u001b[0m \u001b[38;5;28;01mawait\u001b[39;00m \u001b[38;5;28mself\u001b[39m\u001b[38;5;241m.\u001b[39mopen_connection_grpc()\n\u001b[0;32m    175\u001b[0m \u001b[38;5;28mself\u001b[39m\u001b[38;5;241m.\u001b[39m__connected \u001b[38;5;241m=\u001b[39m \u001b[38;5;28;01mTrue\u001b[39;00m\n",
      "\u001b[1;31mWeaviateStartUpError\u001b[0m: Could not connect to Weaviate:Connection to Weaviate failed. Details: ."
     ]
    }
   ],
   "source": [
    "import weaviate\n",
    "from weaviate.util import generate_uuid5\n",
    "from weaviate.classes.init import Auth\n",
    "import os\n",
    "import json\n",
    "import pandas as pd\n",
    "\n",
    "client = weaviate.connect_to_weaviate_cloud(\n",
    "    cluster_url=\"XXX\",  # Replace with your Weaviate Cloud URL\n",
    "    auth_credentials=Auth.api_key(\"XXX\"),  # Replace with your Weaviate Cloud key\n",
    "    headers={'X-OpenAI-Api-key': \"XXX\"}  # Replace with your OpenAI API key\n",
    ")"
   ]
  },
  {
   "cell_type": "code",
   "execution_count": 3,
   "metadata": {
    "application/vnd.databricks.v1+cell": {
     "cellMetadata": {
      "byteLimit": 2048000,
      "rowLimit": 10000
     },
     "inputWidgets": {},
     "nuid": "9208822e-2456-430e-9f51-d6534a83136b",
     "showTitle": false,
     "tableResultSettingsMap": {},
     "title": ""
    }
   },
   "outputs": [
    {
     "name": "stderr",
     "output_type": "stream",
     "text": [
      "<>:2: SyntaxWarning: invalid escape sequence '\\P'\n",
      "<>:2: SyntaxWarning: invalid escape sequence '\\P'\n",
      "C:\\Users\\huzai\\AppData\\Local\\Temp\\ipykernel_28064\\2714632084.py:2: SyntaxWarning: invalid escape sequence '\\P'\n",
      "  df = pd.read_csv(f\"archive\\PubMed Multi Label Text Classification Dataset Processed.csv\")\n"
     ]
    }
   ],
   "source": [
    "import pandas as pd\n",
    "df = pd.read_csv(f\"archive\\PubMed Multi Label Text Classification Dataset Processed.csv\")"
   ]
  },
  {
   "cell_type": "code",
   "execution_count": 4,
   "metadata": {
    "application/vnd.databricks.v1+cell": {
     "cellMetadata": {
      "byteLimit": 2048000,
      "rowLimit": 10000
     },
     "inputWidgets": {},
     "nuid": "102cfeab-d5a4-49ab-bf62-a841aee35bd9",
     "showTitle": false,
     "tableResultSettingsMap": {},
     "title": ""
    }
   },
   "outputs": [],
   "source": [
    "#Filter the dataset if needed\n",
    "df = df[:1000]"
   ]
  },
  {
   "cell_type": "code",
   "execution_count": 5,
   "metadata": {
    "application/vnd.databricks.v1+cell": {
     "cellMetadata": {
      "byteLimit": 2048000,
      "rowLimit": 10000
     },
     "inputWidgets": {},
     "nuid": "4882efdc-8743-4455-af20-503bd7f72eff",
     "showTitle": false,
     "tableResultSettingsMap": {},
     "title": ""
    }
   },
   "outputs": [],
   "source": [
    "import numpy as np\n",
    "# Replace infinity values with NaN and then fill NaN values\n",
    "df.replace([np.inf, -np.inf], np.nan, inplace=True)\n",
    "df.fillna('', inplace=True)\n",
    "\n",
    "# Convert columns to string type\n",
    "df['Title'] = df['Title'].astype(str)\n",
    "df['abstractText'] = df['abstractText'].astype(str)\n",
    "df['meshMajor'] = df['meshMajor'].astype(str)"
   ]
  },
  {
   "cell_type": "code",
   "execution_count": 1,
   "metadata": {
    "application/vnd.databricks.v1+cell": {
     "cellMetadata": {
      "byteLimit": 2048000,
      "rowLimit": 10000
     },
     "inputWidgets": {},
     "nuid": "73d2d39d-f55e-4413-8986-cb1045b9afae",
     "showTitle": false,
     "tableResultSettingsMap": {},
     "title": ""
    }
   },
   "outputs": [
    {
     "ename": "NameError",
     "evalue": "name 'df' is not defined",
     "output_type": "error",
     "traceback": [
      "\u001b[1;31m---------------------------------------------------------------------------\u001b[0m",
      "\u001b[1;31mNameError\u001b[0m                                 Traceback (most recent call last)",
      "Cell \u001b[1;32mIn[1], line 39\u001b[0m\n\u001b[0;32m     36\u001b[0m     \u001b[38;5;28;01mreturn\u001b[39;00m URIRef(uri)\n\u001b[0;32m     38\u001b[0m \u001b[38;5;66;03m# Add a new column to the DataFrame for the article URIs\u001b[39;00m\n\u001b[1;32m---> 39\u001b[0m df[\u001b[38;5;124m'\u001b[39m\u001b[38;5;124mArticle_URI\u001b[39m\u001b[38;5;124m'\u001b[39m] \u001b[38;5;241m=\u001b[39m \u001b[43mdf\u001b[49m[\u001b[38;5;124m'\u001b[39m\u001b[38;5;124mTitle\u001b[39m\u001b[38;5;124m'\u001b[39m]\u001b[38;5;241m.\u001b[39mapply(\u001b[38;5;28;01mlambda\u001b[39;00m title: create_valid_uri(\u001b[38;5;124m\"\u001b[39m\u001b[38;5;124mhttp://example.org/article\u001b[39m\u001b[38;5;124m\"\u001b[39m, title))\n",
      "\u001b[1;31mNameError\u001b[0m: name 'df' is not defined"
     ]
    }
   ],
   "source": [
    "import urllib.parse\n",
    "from rdflib import Graph, RDF, RDFS, Namespace, URIRef, Literal\n",
    "\n",
    "\n",
    "# Function to create a valid URI\n",
    "def create_valid_uri(base_uri, text):\n",
    "    if pd.isna(text):\n",
    "        return None\n",
    "    # Encode text to be used in URI\n",
    "    sanitized_text = urllib.parse.quote(text.strip().replace(' ', '_').replace('\"', '').replace('<', '').replace('>', '').replace(\"'\", \"_\"))\n",
    "    return URIRef(f\"{base_uri}/{sanitized_text}\")\n",
    "\n",
    "\n",
    "# Function to create a valid URI for Articles\n",
    "def create_article_uri(title, base_namespace=\"http://example.org/article/\"):\n",
    "    \"\"\"\n",
    "    Creates a URI for an article by replacing non-word characters with underscores and URL-encoding.\n",
    "\n",
    "    Args:\n",
    "        title (str): The title of the article.\n",
    "        base_namespace (str): The base namespace for the article URI.\n",
    "\n",
    "    Returns:\n",
    "        URIRef: The formatted article URI.\n",
    "    \"\"\"\n",
    "    if pd.isna(title):\n",
    "        return None\n",
    "    # Replace non-word characters with underscores\n",
    "    sanitized_title = re.sub(r'\\W+', '_', title.strip())\n",
    "    # Condense multiple underscores into a single underscore\n",
    "    sanitized_title = re.sub(r'_+', '_', sanitized_title)\n",
    "    # URL-encode the term\n",
    "    encoded_title = quote(sanitized_title)\n",
    "    # Concatenate with base_namespace without adding underscores\n",
    "    uri = f\"{base_namespace}{encoded_title}\"\n",
    "    return URIRef(uri)\n",
    "\n",
    "# Add a new column to the DataFrame for the article URIs\n",
    "df['Article_URI'] = df['Title'].apply(lambda title: create_valid_uri(\"http://example.org/article\", title))\n"
   ]
  },
  {
   "cell_type": "code",
   "execution_count": null,
   "metadata": {
    "application/vnd.databricks.v1+cell": {
     "cellMetadata": {
      "byteLimit": 2048000,
      "rowLimit": 10000
     },
     "inputWidgets": {},
     "nuid": "2de5eecf-79ad-4fbd-969a-b6fc936002c3",
     "showTitle": false,
     "tableResultSettingsMap": {},
     "title": ""
    }
   },
   "outputs": [
    {
     "name": "stdout",
     "output_type": "stream",
     "text": [
      "                    meshTerm                                             URI\n",
      "0                                                   http://example.org/mesh/\n",
      "1               'Motivation'            http://example.org/mesh/_Motivation_\n",
      "2      'Amino_Acid_Sequence'   http://example.org/mesh/_Amino_Acid_Sequence_\n",
      "3                 Meningeal'              http://example.org/mesh/Meningeal_\n",
      "4                   Natural'                http://example.org/mesh/Natural_\n",
      "...                      ...                                             ...\n",
      "5291  'Respiratory_Mechanics  http://example.org/mesh/_Respiratory_Mechanics\n",
      "5292              'Syndrome'              http://example.org/mesh/_Syndrome_\n",
      "5293         'Nanoparticles'         http://example.org/mesh/_Nanoparticles_\n",
      "5294                 'Masks'                 http://example.org/mesh/_Masks_\n",
      "5295     'Diagnostic_Errors'     http://example.org/mesh/_Diagnostic_Errors_\n",
      "\n",
      "[5296 rows x 2 columns]\n"
     ]
    }
   ],
   "source": [
    "# Function to clean and parse MeSH terms\n",
    "def parse_mesh_terms(mesh_list):\n",
    "    if pd.isna(mesh_list):\n",
    "        return []\n",
    "    return [\n",
    "        term.strip().replace(' ', '_')\n",
    "        for term in mesh_list.strip(\"[]'\").split(',')\n",
    "    ]\n",
    "\n",
    "# Function to create a valid URI for MeSH terms\n",
    "def create_valid_uri(base_uri, text):\n",
    "    if pd.isna(text):\n",
    "        return None\n",
    "    sanitized_text = urllib.parse.quote(\n",
    "        text.strip()\n",
    "        .replace(' ', '_')\n",
    "        .replace('\"', '')\n",
    "        .replace('<', '')\n",
    "        .replace('>', '')\n",
    "        .replace(\"'\", \"_\")\n",
    "    )\n",
    "    return f\"{base_uri}/{sanitized_text}\"\n",
    "\n",
    "# Extract and process all MeSH terms\n",
    "all_mesh_terms = []\n",
    "for mesh_list in df[\"meshMajor\"]:\n",
    "    all_mesh_terms.extend(parse_mesh_terms(mesh_list))\n",
    "\n",
    "# Deduplicate terms\n",
    "unique_mesh_terms = list(set(all_mesh_terms))\n",
    "\n",
    "# Create a DataFrame of MeSH terms and their URIs\n",
    "mesh_df = pd.DataFrame({\n",
    "    \"meshTerm\": unique_mesh_terms,\n",
    "    \"URI\": [create_valid_uri(\"http://example.org/mesh\", term) for term in unique_mesh_terms]\n",
    "})\n",
    "\n",
    "# Display the DataFrame\n",
    "print(mesh_df)\n"
   ]
  },
  {
   "cell_type": "code",
   "execution_count": null,
   "metadata": {
    "application/vnd.databricks.v1+cell": {
     "cellMetadata": {
      "byteLimit": 2048000,
      "rowLimit": 10000
     },
     "inputWidgets": {},
     "nuid": "90ff1b25-6c71-44f9-bfd9-2960438fb2fc",
     "showTitle": false,
     "tableResultSettingsMap": {},
     "title": ""
    }
   },
   "outputs": [],
   "source": [
    "from weaviate.classes.config import Configure\n",
    "\n",
    "\n",
    "#define the collection\n",
    "articles = client.collections.create(\n",
    "    name = \"Article\",\n",
    "    vectorizer_config=Configure.Vectorizer.text2vec_openai(),  # If set to \"none\" you must always provide vectors yourself. Could be any other \"text2vec-*\" also.\n",
    "    generative_config=Configure.Generative.openai(),  # Ensure the `generative-openai` module is used for generative queries\n",
    ")"
   ]
  },
  {
   "cell_type": "code",
   "execution_count": null,
   "metadata": {
    "application/vnd.databricks.v1+cell": {
     "cellMetadata": {
      "byteLimit": 2048000,
      "rowLimit": 10000
     },
     "inputWidgets": {},
     "nuid": "aac7478b-4ed4-4a29-967e-5616c0b9122b",
     "showTitle": false,
     "tableResultSettingsMap": {},
     "title": ""
    }
   },
   "outputs": [],
   "source": [
    "#add ojects\n",
    "articles = client.collections.get(\"Article\")\n",
    "\n",
    "with articles.batch.dynamic() as batch:\n",
    "    for index, row in df.iterrows():\n",
    "        batch.add_object({\n",
    "            \"title\": row[\"Title\"],\n",
    "            \"abstractText\": row[\"abstractText\"],\n",
    "            \"Article_URI\": row[\"Article_URI\"],\n",
    "            \"meshMajor\": row[\"meshMajor\"],\n",
    "        })"
   ]
  },
  {
   "cell_type": "code",
   "execution_count": null,
   "metadata": {
    "application/vnd.databricks.v1+cell": {
     "cellMetadata": {
      "byteLimit": 2048000,
      "rowLimit": 10000
     },
     "inputWidgets": {},
     "nuid": "0877d230-6ae5-4564-90a6-9fa71a8629ab",
     "showTitle": false,
     "tableResultSettingsMap": {},
     "title": ""
    }
   },
   "outputs": [],
   "source": [
    "#define the collection\n",
    "terms = client.collections.create(\n",
    "    name = \"term\",\n",
    "    vectorizer_config=Configure.Vectorizer.text2vec_openai(),  # If set to \"none\" you must always provide vectors yourself. Could be any other \"text2vec-*\" also.\n",
    "    generative_config=Configure.Generative.openai(),  # Ensure the `generative-openai` module is used for generative queries\n",
    ")"
   ]
  },
  {
   "cell_type": "code",
   "execution_count": null,
   "metadata": {
    "application/vnd.databricks.v1+cell": {
     "cellMetadata": {
      "byteLimit": 2048000,
      "rowLimit": 10000
     },
     "inputWidgets": {},
     "nuid": "bca5508c-537f-4cbb-a9a5-9ab0a23bea2e",
     "showTitle": false,
     "tableResultSettingsMap": {},
     "title": ""
    }
   },
   "outputs": [],
   "source": [
    "#add ojects\n",
    "terms = client.collections.get(\"term\")\n",
    "\n",
    "with terms.batch.dynamic() as batch:\n",
    "    for index, row in mesh_df.iterrows():\n",
    "        batch.add_object({\n",
    "            \"meshTerm\": row[\"meshTerm\"],\n",
    "            \"URI\": row[\"URI\"],\n",
    "        })"
   ]
  },
  {
   "cell_type": "code",
   "execution_count": null,
   "metadata": {
    "application/vnd.databricks.v1+cell": {
     "cellMetadata": {
      "byteLimit": 2048000,
      "rowLimit": 10000
     },
     "inputWidgets": {},
     "nuid": "4e094ef7-270c-4e9d-b7df-54285ac8daff",
     "showTitle": false,
     "tableResultSettingsMap": {},
     "title": ""
    }
   },
   "outputs": [
    {
     "name": "stdout",
     "output_type": "stream",
     "text": [
      "UUID: 1acdd564-4ca0-47f9-94bc-381c54c39d78\n",
      "{'meshTerm': \"'Melanoma'\", 'uRI': 'http://example.org/mesh/_Melanoma_'}\n",
      "0.5611209869384766\n",
      "UUID: 380ddcff-34a4-419c-a26e-e1ef2e6d9106\n",
      "{'meshTerm': \"'Mouth_Neoplasms'\", 'uRI': 'http://example.org/mesh/_Mouth_Neoplasms_'}\n",
      "0.5695425868034363\n",
      "UUID: 8489e332-bfa2-4004-b859-d687702ef674\n",
      "{'meshTerm': 'Carcinoma', 'uRI': 'http://example.org/mesh/Carcinoma'}\n",
      "0.5727190375328064\n",
      "UUID: 227adc65-58fa-4e2b-aeab-73034309244c\n",
      "{'meshTerm': \"Adenocarcinoma_of_Lung'\", 'uRI': 'http://example.org/mesh/Adenocarcinoma_of_Lung_'}\n",
      "0.5770481824874878\n",
      "UUID: 2bb491bb-14d7-45c9-870c-bd967d363744\n",
      "{'meshTerm': \"Tumor'\", 'uRI': 'http://example.org/mesh/Tumor_'}\n",
      "0.5853508710861206\n",
      "UUID: 3f2f74b2-c6f5-4c73-951f-3b6af2f3250f\n",
      "{'meshTerm': 'Adenocarcinoma', 'uRI': 'http://example.org/mesh/Adenocarcinoma'}\n",
      "0.5880469083786011\n",
      "UUID: 5bb11fb8-ff0f-45f7-b5d1-c6005c15d79f\n",
      "{'meshTerm': \"'Lung_Neoplasms'\", 'uRI': 'http://example.org/mesh/_Lung_Neoplasms_'}\n",
      "0.5928151607513428\n",
      "UUID: 344356b7-9096-4946-a663-1e2df9f9e5cf\n",
      "{'meshTerm': \"'Esophageal_Squamous_Cell_Carcinoma'\", 'uRI': 'http://example.org/mesh/_Esophageal_Squamous_Cell_Carcinoma_'}\n",
      "0.5930415391921997\n",
      "UUID: c981db64-5845-40ee-945c-6367b0d1eca5\n",
      "{'meshTerm': \"'Cancer_Vaccines'\", 'uRI': 'http://example.org/mesh/_Cancer_Vaccines_'}\n",
      "0.5962057709693909\n",
      "UUID: d3987a05-33cd-49d2-99a7-bf4f1047911c\n",
      "{'meshTerm': 'Tumor-Associated', 'uRI': 'http://example.org/mesh/Tumor-Associated'}\n",
      "0.5984681844711304\n"
     ]
    }
   ],
   "source": [
    "#Check that it works\n",
    "from weaviate.classes.query import MetadataQuery\n",
    "\n",
    "response = terms.query.near_text(\n",
    "    query=\"mouth cancer\",\n",
    "    limit=10,\n",
    "    return_metadata=MetadataQuery(distance=True)\n",
    ")\n",
    "\n",
    "for o in response.objects:\n",
    "    print(f\"UUID: {o.uuid}\")\n",
    "    print(o.properties)\n",
    "    print(o.metadata.distance)\n",
    "    #print(o.Object._WeaviateUUIDInt)"
   ]
  },
  {
   "cell_type": "code",
   "execution_count": null,
   "metadata": {
    "application/vnd.databricks.v1+cell": {
     "cellMetadata": {
      "byteLimit": 2048000,
      "rowLimit": 10000
     },
     "inputWidgets": {},
     "nuid": "4b469cc5-35c3-4b49-88dd-f00e83135959",
     "showTitle": false,
     "tableResultSettingsMap": {},
     "title": ""
    }
   },
   "outputs": [
    {
     "name": "stdout",
     "output_type": "stream",
     "text": [
      "UUID: 9083872f-f1e4-42cb-9a30-12d6177dc7f8\n",
      "{'title': 'Malignant fibrous histiocytoma of the pharynx.', 'meshMajor': \"['Histiocytoma, Benign Fibrous', 'Humans', 'Male', 'Middle Aged', 'Pharyngeal Neoplasms', 'Tomography, X-Ray Computed']\", 'abstractText': 'Malignant fibrous histiocytoma (MFH) is the most common soft-tissue sarcoma of late adult life, but is relatively uncommon in the head and neck region. That region has been reported to be the origin of malignant fibrous histiocytoma in 3-10% of cases. Only one case of the tumor occurring in the pharynx has been reported. Histologically it is sometimes hard to distinguish this tumor from some sarcomas and pleomorphic carcinomas. The treatment of choice is a large surgical resection, while radiotherapy and chemotherapy are reserved for recurrences. The authors present a case of oropharyngeal malignant fibrous histiocytoma. The patient complained dysphagia and dyslalia progressively worsening in six months. Pharyngo-laryngoscopy revealed a mass of the left lateral wall of oro and hypopharynx. CT scan examination showed a capsuled mass which displaced but not involved the neck neurovascular structures; there was no evidence of linphonodal involvement. Transoral surgical excision of the mass was performed with the preservation of speech and swallowing. For more than 1 year postoperatively, there has been no evidence of the disease or metastasis.', 'article_URI': 'http://example.org/article/Malignant_fibrous_histiocytoma_of_the_pharynx.'}\n",
      "0.5757147073745728\n",
      "UUID: 45437967-0ad1-4308-bef7-ac585adbb8c3\n",
      "{'title': 'Sclerosing mucoepidermoid carcinoma with eosinophilia of the salivary glands.', 'meshMajor': \"['Adult', 'Biomarkers, Tumor', 'Carcinoma, Mucoepidermoid', 'Diagnosis, Differential', 'Eosinophilia', 'Female', 'Fibrosis', 'Humans', 'Immunohistochemistry', 'Lymphatic Metastasis', 'Male', 'Middle Aged', 'Parotid Neoplasms', 'Sclerosis', 'Submandibular Gland Neoplasms']\", 'abstractText': 'We encountered two cases of low malignant mucoepidermoid carcinoma with scanty cellular atypism which originated in the parotid or submandibular gland and was characterized by marked fibrosis and eosinophilic infiltration within tumor tissue despite the predominance of the squamous component. Here we report these two cases and provide a review of the literature. We believe that clinically these two tumors with stromal fibrosis and eosinophilic infiltration have a low malignant potential, although histological examination revealed a scanty mucus-producing epithelial component. Therefore, we consider this type of tumor as a new subtype of mucoepidermoid carcinoma. A low-malignant mucoepidermoid carcinoma with stromal fibrosis and eosinophilic infiltration, as described in these two cases, may be misdiagnosed as a highly malignant mucoepidermoid carcinoma or squamous cell carcinoma because of its histologically scanty mucus-producing epithelial component. The objective of this study was to clarify their differences and to discuss the rendering of an accurate histological diagnosis, the degree of malignancy in relation to prognosis prediction, and the choice of therapy. In addition, we propose regarding this type of tumor as a new subtype of mucoepidermoid carcinoma.', 'article_URI': 'http://example.org/article/Sclerosing_mucoepidermoid_carcinoma_with_eosinophilia_of_the_salivary_glands.'}\n",
      "0.5966898798942566\n"
     ]
    }
   ],
   "source": [
    "#Check that it works\n",
    "response = articles.query.near_text(\n",
    "    query=\"mouth cancer\",\n",
    "    limit=2,\n",
    "    return_metadata=MetadataQuery(distance=True)\n",
    ")\n",
    "\n",
    "for o in response.objects:\n",
    "    print(f\"UUID: {o.uuid}\")\n",
    "    print(o.properties)\n",
    "    print(o.metadata.distance)\n",
    "    #print(o.Object._WeaviateUUIDInt)"
   ]
  },
  {
   "cell_type": "code",
   "execution_count": null,
   "metadata": {
    "application/vnd.databricks.v1+cell": {
     "cellMetadata": {
      "byteLimit": 2048000,
      "rowLimit": 10000
     },
     "inputWidgets": {},
     "nuid": "87bd07f8-095b-4ec6-9c5b-9d87d1d11687",
     "showTitle": false,
     "tableResultSettingsMap": {},
     "title": ""
    }
   },
   "outputs": [
    {
     "name": "stdout",
     "output_type": "stream",
     "text": [
      "1000\n"
     ]
    }
   ],
   "source": [
    "aggregation = articles.aggregate.over_all(total_count=True)\n",
    "print(aggregation.total_count)"
   ]
  },
  {
   "cell_type": "code",
   "execution_count": null,
   "metadata": {
    "application/vnd.databricks.v1+cell": {
     "cellMetadata": {
      "byteLimit": 2048000,
      "rowLimit": 10000
     },
     "inputWidgets": {},
     "nuid": "22285a94-badb-429e-a71c-826e0e731293",
     "showTitle": false,
     "tableResultSettingsMap": {},
     "title": ""
    }
   },
   "outputs": [
    {
     "name": "stdout",
     "output_type": "stream",
     "text": [
      "{'title': 'Malignant fibrous histiocytoma of the pharynx.', 'meshMajor': \"['Histiocytoma, Benign Fibrous', 'Humans', 'Male', 'Middle Aged', 'Pharyngeal Neoplasms', 'Tomography, X-Ray Computed']\", 'abstractText': 'Malignant fibrous histiocytoma (MFH) is the most common soft-tissue sarcoma of late adult life, but is relatively uncommon in the head and neck region. That region has been reported to be the origin of malignant fibrous histiocytoma in 3-10% of cases. Only one case of the tumor occurring in the pharynx has been reported. Histologically it is sometimes hard to distinguish this tumor from some sarcomas and pleomorphic carcinomas. The treatment of choice is a large surgical resection, while radiotherapy and chemotherapy are reserved for recurrences. The authors present a case of oropharyngeal malignant fibrous histiocytoma. The patient complained dysphagia and dyslalia progressively worsening in six months. Pharyngo-laryngoscopy revealed a mass of the left lateral wall of oro and hypopharynx. CT scan examination showed a capsuled mass which displaced but not involved the neck neurovascular structures; there was no evidence of linphonodal involvement. Transoral surgical excision of the mass was performed with the preservation of speech and swallowing. For more than 1 year postoperatively, there has been no evidence of the disease or metastasis.', 'article_URI': 'http://example.org/article/Malignant_fibrous_histiocytoma_of_the_pharynx.'}\n",
      "-1.5497207641601562e-06\n",
      "{'title': \"[Chondroma adjacent to Meckel's cave mimicking a fifth cranial nerve neurinoma. A case report].\", 'meshMajor': \"['Adult', 'Chondroma', 'Cranial Nerve Neoplasms', 'Diagnosis, Differential', 'Humans', 'Male', 'Neurilemmoma', 'Skull Base', 'Skull Neoplasms', 'Trigeminal Nerve Diseases']\", 'abstractText': \"Cranial chondromas are tumours arising from chondrocyte embryonic remnants cells that usually appear in the skull base synchondrosis. In contrast to the rest of the organism, where chondroid tumours are the most common primary bone tumour just behind the haematopoietic lineage ones, they are a rarity at cranial level, with an incidence of less than 1% of intracranial tumours. The case is reported on a 42 year-old male referred to our clinic due to the finding of an extra-axial lesion located close to the Meckel's cave region, with extension to the posterior fossa and brainstem compression after progressive paraparesis of 6 months onset. With the diagnosis of trigeminal schwannoma, a subtotal tumour resection was performed using a combined supra-infratentorial pre-sigmoidal approach. The postoperative histopathology report confirmed the diagnosis of cranial chondroma.\", 'article_URI': 'http://example.org/article/%5BChondroma_adjacent_to_Meckel_s_cave_mimicking_a_fifth_cranial_nerve_neurinoma._A_case_report%5D.'}\n",
      "0.4138724207878113\n"
     ]
    }
   ],
   "source": [
    "#Check that similarity works\n",
    "response = articles.query.near_object(\n",
    "    near_object=\"9083872f-f1e4-42cb-9a30-12d6177dc7f8\",  # A UUID of an object (e.g. \"56b9449e-65db-5df4-887b-0a4773f52aa7\")\n",
    "    limit=2,\n",
    "    return_metadata=MetadataQuery(distance=True)\n",
    ")\n",
    "\n",
    "for o in response.objects:\n",
    "    print(o.properties)\n",
    "    print(o.metadata.distance)"
   ]
  },
  {
   "cell_type": "code",
   "execution_count": null,
   "metadata": {
    "application/vnd.databricks.v1+cell": {
     "cellMetadata": {
      "byteLimit": 2048000,
      "rowLimit": 10000
     },
     "inputWidgets": {},
     "nuid": "4b66986e-cb39-4367-a738-3701d36dc7e4",
     "showTitle": false,
     "tableResultSettingsMap": {},
     "title": ""
    }
   },
   "outputs": [
    {
     "name": "stdout",
     "output_type": "stream",
     "text": [
      "{'title': 'Malignant fibrous histiocytoma of the pharynx.', 'meshMajor': \"['Histiocytoma, Benign Fibrous', 'Humans', 'Male', 'Middle Aged', 'Pharyngeal Neoplasms', 'Tomography, X-Ray Computed']\", 'abstractText': 'Malignant fibrous histiocytoma (MFH) is the most common soft-tissue sarcoma of late adult life, but is relatively uncommon in the head and neck region. That region has been reported to be the origin of malignant fibrous histiocytoma in 3-10% of cases. Only one case of the tumor occurring in the pharynx has been reported. Histologically it is sometimes hard to distinguish this tumor from some sarcomas and pleomorphic carcinomas. The treatment of choice is a large surgical resection, while radiotherapy and chemotherapy are reserved for recurrences. The authors present a case of oropharyngeal malignant fibrous histiocytoma. The patient complained dysphagia and dyslalia progressively worsening in six months. Pharyngo-laryngoscopy revealed a mass of the left lateral wall of oro and hypopharynx. CT scan examination showed a capsuled mass which displaced but not involved the neck neurovascular structures; there was no evidence of linphonodal involvement. Transoral surgical excision of the mass was performed with the preservation of speech and swallowing. For more than 1 year postoperatively, there has been no evidence of the disease or metastasis.', 'article_URI': 'http://example.org/article/Malignant_fibrous_histiocytoma_of_the_pharynx.'}\n",
      "Malignant fibrous histiocytoma is a type of cancer that can develop in the soft tissues of the body. In this case, it has been found in the pharynx, which is the part of the throat behind the mouth and nasal cavity. This type of cancer is rare in the pharynx and can be difficult to treat.\n",
      "\n",
      "The pharynx is an important part of the body that helps with swallowing and breathing. When cancer develops in this area, it can cause symptoms such as difficulty swallowing, a lump in the throat, or pain in the neck.\n",
      "\n",
      "Treatment for malignant fibrous histiocytoma of the pharynx typically involves surgery to remove the cancerous tissue, followed by radiation therapy or chemotherapy to kill any remaining cancer cells. It is important for patients with this type of cancer to work closely with their medical team to develop a treatment plan that is tailored to their specific needs.\n"
     ]
    }
   ],
   "source": [
    "prompt = \"Please explain this article {title} like you would to someone without a medical degree.\"\n",
    "\n",
    "response = articles.generate.near_text(\n",
    "    query=\"Malignant fibrous histiocytoma of the pharynx.\",\n",
    "    limit=1,\n",
    "    single_prompt=prompt\n",
    ")\n",
    "\n",
    "# print source properties and generated responses\n",
    "for o in response.objects:\n",
    "    print(o.properties)\n",
    "    print(o.generated)"
   ]
  },
  {
   "cell_type": "code",
   "execution_count": null,
   "metadata": {
    "application/vnd.databricks.v1+cell": {
     "cellMetadata": {
      "byteLimit": 2048000,
      "rowLimit": 10000
     },
     "inputWidgets": {},
     "nuid": "98876a89-bf35-4266-950f-b524eeb7c0e4",
     "showTitle": false,
     "tableResultSettingsMap": {},
     "title": ""
    }
   },
   "outputs": [
    {
     "name": "stdout",
     "output_type": "stream",
     "text": [
      "- Malignant fibrous histiocytoma (MFH) is a rare soft-tissue sarcoma that can occur in the head and neck region, with only one reported case in the pharynx.\n",
      "- Treatment for MFH typically involves surgical resection, with radiotherapy and chemotherapy used for recurrences.\n",
      "- A case of oropharyngeal MFH presented with symptoms of dysphagia and dyslalia, which were successfully treated with surgical excision.\n",
      "- Low malignant mucoepidermoid carcinoma with stromal fibrosis and eosinophilic infiltration is a subtype of mucoepidermoid carcinoma that may be misdiagnosed as a more aggressive form.\n",
      "- Accurate histological diagnosis is important for determining prognosis and treatment options for this subtype of mucoepidermoid carcinoma.\n",
      "- Primary leiomyosarcoma in the trachea is rare, with only six cases reported in the English literature, making clinical diagnosis and classification challenging.\n"
     ]
    }
   ],
   "source": [
    "#Grouped RAG\n",
    "\n",
    "task = \"Summarize the key information here in bullet points. Make it understandable to someone without a medical degree.\"\n",
    "\n",
    "response = articles.generate.near_text(\n",
    "    query=\"mouth cancer\",\n",
    "    limit=3,\n",
    "    grouped_task=task\n",
    ")\n",
    "\n",
    "# print the generated response\n",
    "print(response.generated)"
   ]
  },
  {
   "cell_type": "markdown",
   "metadata": {
    "application/vnd.databricks.v1+cell": {
     "cellMetadata": {},
     "inputWidgets": {},
     "nuid": "1f2cc22e-d395-481a-bd3a-9815c9123884",
     "showTitle": false,
     "tableResultSettingsMap": {},
     "title": ""
    }
   },
   "source": [
    "### Turn metadata into a KG"
   ]
  },
  {
   "cell_type": "code",
   "execution_count": null,
   "metadata": {
    "application/vnd.databricks.v1+cell": {
     "cellMetadata": {
      "byteLimit": 2048000,
      "rowLimit": 10000
     },
     "inputWidgets": {},
     "nuid": "b7802528-848c-42e0-b0ee-f2060fe6fdba",
     "showTitle": false,
     "tableResultSettingsMap": {},
     "title": ""
    }
   },
   "outputs": [
    {
     "name": "stderr",
     "output_type": "stream",
     "text": [
      "<>:105: DeprecationWarning: invalid escape sequence '\\W'\n",
      "<>:105: DeprecationWarning: invalid escape sequence '\\W'\n",
      "/home/spark-ef8346f2-e6ab-4c08-b39a-a5/.ipykernel/16765/command-3112674932470871-262976766:105: DeprecationWarning: invalid escape sequence '\\W'\n",
      "  \"\"\"\n"
     ]
    },
    {
     "data": {
      "text/plain": [
       "<Graph identifier=Nb0e4bfd11a6c43338668c3ed1facc6e9 (<class 'rdflib.graph.Graph'>)>"
      ]
     },
     "execution_count": 77,
     "metadata": {},
     "output_type": "execute_result"
    },
    {
     "name": "stderr",
     "output_type": "stream",
     "text": [
      "<unknown>:105: DeprecationWarning: invalid escape sequence '\\W'\n"
     ]
    }
   ],
   "source": [
    "from rdflib import Graph, RDF, RDFS, Namespace, URIRef, Literal\n",
    "from rdflib.namespace import SKOS, XSD\n",
    "import pandas as pd\n",
    "import urllib.parse\n",
    "import random\n",
    "from datetime import datetime, timedelta\n",
    "import re\n",
    "from urllib.parse import quote\n",
    "\n",
    "# --- Initialization ---\n",
    "g = Graph()\n",
    "\n",
    "# Define namespaces\n",
    "schema = Namespace('http://schema.org/')\n",
    "ex = Namespace('http://example.org/')\n",
    "prefixes = {\n",
    "    'schema': schema,\n",
    "    'ex': ex,\n",
    "    'skos': SKOS,\n",
    "    'xsd': XSD\n",
    "}\n",
    "for p, ns in prefixes.items():\n",
    "    g.bind(p, ns)\n",
    "\n",
    "# Define classes and properties\n",
    "Article = URIRef(ex.Article)\n",
    "MeSHTerm = URIRef(ex.MeSHTerm)\n",
    "g.add((Article, RDF.type, RDFS.Class))\n",
    "g.add((MeSHTerm, RDF.type, RDFS.Class))\n",
    "\n",
    "title = URIRef(schema.name)\n",
    "abstract = URIRef(schema.description)\n",
    "date_published = URIRef(schema.datePublished)\n",
    "access = URIRef(ex.access)\n",
    "\n",
    "g.add((title, RDF.type, RDF.Property))\n",
    "g.add((abstract, RDF.type, RDF.Property))\n",
    "g.add((date_published, RDF.type, RDF.Property))\n",
    "g.add((access, RDF.type, RDF.Property))\n",
    "\n",
    "# Function to clean and parse MeSH terms\n",
    "def parse_mesh_terms(mesh_list):\n",
    "    if pd.isna(mesh_list):\n",
    "        return []\n",
    "    return [term.strip() for term in mesh_list.strip(\"[]'\").split(',')]\n",
    "\n",
    "# Enhanced convert_to_uri function\n",
    "def convert_to_uri(term, base_namespace=\"http://example.org/mesh/\"):\n",
    "    \"\"\"\n",
    "    Converts a MeSH term into a standardized URI by replacing spaces and special characters with underscores,\n",
    "    ensuring it starts and ends with a single underscore, and URL-encoding the term.\n",
    "\n",
    "    Args:\n",
    "        term (str): The MeSH term to convert.\n",
    "        base_namespace (str): The base namespace for the URI.\n",
    "\n",
    "    Returns:\n",
    "        URIRef: The formatted URI.\n",
    "    \"\"\"\n",
    "    if pd.isna(term):\n",
    "        return None  # Handle NaN or None terms gracefully\n",
    "    \n",
    "    # Step 1: Strip existing leading and trailing non-word characters (including underscores)\n",
    "    stripped_term = re.sub(r'^\\W+|\\W+$', '', term)\n",
    "    \n",
    "    # Step 2: Replace non-word characters with underscores (one or more)\n",
    "    formatted_term = re.sub(r'\\W+', '_', stripped_term)\n",
    "    \n",
    "    # Step 3: Replace multiple consecutive underscores with a single underscore\n",
    "    formatted_term = re.sub(r'_+', '_', formatted_term)\n",
    "    \n",
    "    # Step 4: URL-encode the term to handle any remaining special characters\n",
    "    encoded_term = quote(formatted_term)\n",
    "    \n",
    "    # Step 5: Add single leading and trailing underscores\n",
    "    term_with_underscores = f\"_{encoded_term}_\"\n",
    "    \n",
    "    # Step 6: Concatenate with base_namespace without adding an extra underscore\n",
    "    uri = f\"{base_namespace}{term_with_underscores}\"\n",
    "\n",
    "    return URIRef(uri)\n",
    "\n",
    "# Function to generate a random date within the last 5 years\n",
    "def generate_random_date():\n",
    "    start_date = datetime.now() - timedelta(days=5*365)\n",
    "    random_days = random.randint(0, 5*365)\n",
    "    return start_date + timedelta(days=random_days)\n",
    "\n",
    "# Function to generate a random access value between 1 and 10\n",
    "def generate_random_access():\n",
    "    return random.randint(1, 10)\n",
    "\n",
    "# Function to create a valid URI for Articles\n",
    "def create_article_uri(title, base_namespace=\"http://example.org/article\"):\n",
    "    \"\"\"\n",
    "    Creates a URI for an article by replacing non-word characters with underscores and URL-encoding.\n",
    "\n",
    "    Args:\n",
    "        title (str): The title of the article.\n",
    "        base_namespace (str): The base namespace for the article URI.\n",
    "\n",
    "    Returns:\n",
    "        URIRef: The formatted article URI.\n",
    "    \"\"\"\n",
    "    if pd.isna(title):\n",
    "        return None\n",
    "    # Encode text to be used in URI\n",
    "    sanitized_text = urllib.parse.quote(title.strip().replace(' ', '_').replace('\"', '').replace('<', '').replace('>', '').replace(\"'\", \"_\"))\n",
    "    return URIRef(f\"{base_namespace}/{sanitized_text}\")\n",
    "\n",
    "# Loop through each row in the DataFrame and create RDF triples\n",
    "for index, row in df.iterrows():\n",
    "    article_uri = create_article_uri(row['Title'])\n",
    "    if article_uri is None:\n",
    "        continue\n",
    "    \n",
    "    # Add Article instance\n",
    "    g.add((article_uri, RDF.type, Article))\n",
    "    g.add((article_uri, title, Literal(row['Title'], datatype=XSD.string)))\n",
    "    g.add((article_uri, abstract, Literal(row['abstractText'], datatype=XSD.string)))\n",
    "    \n",
    "    # Add random datePublished and access\n",
    "    random_date = generate_random_date()\n",
    "    random_access = generate_random_access()\n",
    "    g.add((article_uri, date_published, Literal(random_date.date(), datatype=XSD.date)))\n",
    "    g.add((article_uri, access, Literal(random_access, datatype=XSD.integer)))\n",
    "    \n",
    "    # Add MeSH Terms\n",
    "    mesh_terms = parse_mesh_terms(row['meshMajor'])\n",
    "    for term in mesh_terms:\n",
    "        term_uri = convert_to_uri(term, base_namespace=\"http://example.org/mesh/\")\n",
    "        if term_uri is None:\n",
    "            continue\n",
    "        \n",
    "        # Add MeSH Term instance\n",
    "        g.add((term_uri, RDF.type, MeSHTerm))\n",
    "        g.add((term_uri, RDFS.label, Literal(term.replace('_', ' '), datatype=XSD.string)))\n",
    "        \n",
    "        # Link Article to MeSH Term\n",
    "        g.add((article_uri, schema.about, term_uri))\n",
    "\n",
    "# Serialize the graph to a file (optional)\n",
    "g.serialize(destination='PubMedGraph.ttl', format='turtle')\n"
   ]
  },
  {
   "cell_type": "code",
   "execution_count": null,
   "metadata": {
    "application/vnd.databricks.v1+cell": {
     "cellMetadata": {
      "byteLimit": 2048000,
      "rowLimit": 10000
     },
     "inputWidgets": {},
     "nuid": "a7dddc69-5d6c-477f-acc0-5f9c49e031fb",
     "showTitle": false,
     "tableResultSettingsMap": {},
     "title": ""
    }
   },
   "outputs": [
    {
     "name": "stdout",
     "output_type": "stream",
     "text": [
      "File saved at /Workspace/PubMedGraph.ttl\n"
     ]
    }
   ],
   "source": [
    "# Path to save the file\n",
    "file_path = \"/Workspace/PubMedGraph.ttl\"\n",
    "\n",
    "# Save the file\n",
    "g.serialize(destination=file_path, format='turtle')\n",
    "\n",
    "print(f\"File saved at {file_path}\")"
   ]
  }
 ],
 "metadata": {
  "application/vnd.databricks.v1+notebook": {
   "computePreferences": {
    "hardware": {
     "accelerator": null,
     "gpuPoolId": null,
     "memory": null
    }
   },
   "dashboards": [],
   "environmentMetadata": {
    "base_environment": "",
    "client": "1"
   },
   "language": "python",
   "notebookMetadata": {
    "pythonIndentUnit": 4
   },
   "notebookName": "VectorVsKG_updated",
   "widgets": {}
  },
  "kernelspec": {
   "display_name": "ragvenv",
   "language": "python",
   "name": "python3"
  },
  "language_info": {
   "codemirror_mode": {
    "name": "ipython",
    "version": 3
   },
   "file_extension": ".py",
   "mimetype": "text/x-python",
   "name": "python",
   "nbconvert_exporter": "python",
   "pygments_lexer": "ipython3",
   "version": "3.10.0"
  }
 },
 "nbformat": 4,
 "nbformat_minor": 0
}
